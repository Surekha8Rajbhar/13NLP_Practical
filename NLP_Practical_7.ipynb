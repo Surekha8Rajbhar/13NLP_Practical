{
  "nbformat": 4,
  "nbformat_minor": 0,
  "metadata": {
    "colab": {
      "name": "NLP Practical 7.ipynb",
      "provenance": [],
      "collapsed_sections": [],
      "include_colab_link": true
    },
    "kernelspec": {
      "name": "python3",
      "display_name": "Python 3"
    },
    "language_info": {
      "name": "python"
    }
  },
  "cells": [
    {
      "cell_type": "markdown",
      "metadata": {
        "id": "view-in-github",
        "colab_type": "text"
      },
      "source": [
        "<a href=\"https://colab.research.google.com/github/Surekha8Rajbhar/13NLP_Practical/blob/main/NLP_Practical_7.ipynb\" target=\"_parent\"><img src=\"https://colab.research.google.com/assets/colab-badge.svg\" alt=\"Open In Colab\"/></a>"
      ]
    },
    {
      "cell_type": "markdown",
      "source": [
        "#Practical No. 7\n",
        "#finite state automata\n",
        "## A. Define grammar using nltk. Analyze a sentence using the same.\n"
      ],
      "metadata": {
        "id": "V04q1UWU-gs-"
      }
    },
    {
      "cell_type": "code",
      "execution_count": 6,
      "metadata": {
        "colab": {
          "base_uri": "https://localhost:8080/"
        },
        "id": "TDUYTQID-Xru",
        "outputId": "a07a08b5-e0e3-4345-df5a-d340df4e08c1"
      },
      "outputs": [
        {
          "output_type": "stream",
          "name": "stdout",
          "text": [
            "[nltk_data] Downloading package punkt to /root/nltk_data...\n",
            "[nltk_data]   Package punkt is already up-to-date!\n",
            "['Book', 'that', 'flight']\n",
            "(S (VP (VP Book) (NP (Det that) (NP flight))))\n"
          ]
        }
      ],
      "source": [
        "import nltk\n",
        "nltk.download('punkt')\n",
        "from nltk import tokenize\n",
        "grammar1 = nltk.CFG.fromstring(\"\"\"\n",
        "S -> VP\n",
        " VP -> VP NP\n",
        " NP -> Det NP\n",
        " Det -> 'that'\n",
        " NP -> singular Noun\n",
        " NP -> 'flight'\n",
        " VP -> 'Book' \n",
        "\"\"\")\n",
        "sentence = \"Book that flight\"\n",
        "for index in range(len(sentence)):\n",
        "  all_tokens = tokenize.word_tokenize(sentence)\n",
        "print(all_tokens)\n",
        "parser = nltk.ChartParser(grammar1)\n",
        "for tree in parser.parse(all_tokens):\n",
        "  print(tree)\n",
        "#  tree.draw()"
      ]
    },
    {
      "cell_type": "markdown",
      "source": [
        "## B. Accept the input string with Regular expression of Finite Automaton: 101+."
      ],
      "metadata": {
        "id": "Pcz7DRJM--E-"
      }
    },
    {
      "cell_type": "code",
      "source": [
        "def FA(s):\n",
        "    #if the length is less than 3 then it can't be accepted, Therefore end the process.\n",
        "    if len(s)<3:\n",
        "        return \"Rejected\"\n",
        "    #first three characters are fixed. Therefore, checking them using index\n",
        "    if s[0]=='1':\n",
        "        if s[1]=='0':\n",
        "            if s[2]=='1':\n",
        "                # After index 2 only \"1\" can appear. Therefore break the process if any othercharacter is detected\n",
        "                for i in range(3, len(s)):\n",
        "                    if s[i]!='1':\n",
        "                        return \"Rejected\"\n",
        "                    return \"Accepted\"\n",
        "                return \"Rejected\"\n",
        "            return \"Rejected\"\n",
        "        return \"Rejected\"\n",
        "    inputs=['1','10101','101','10111','01010','100','','10111101','1011111']\n",
        "    for i in inputs:\n",
        "        print(FA(i))"
      ],
      "metadata": {
        "id": "Y0Q2wCT9-69Q"
      },
      "execution_count": 7,
      "outputs": []
    },
    {
      "cell_type": "markdown",
      "source": [
        "## C. Accept the input string with Regular expression of FA: (a+b)*bba."
      ],
      "metadata": {
        "id": "BhrlPv_L_a2p"
      }
    },
    {
      "cell_type": "code",
      "source": [
        "def FA(s):\n",
        "    size=0\n",
        "    #scan complete string and make sure that it contains only 'a' & 'b'\n",
        "    for i in s:\n",
        "        if i=='a' or i=='b':\n",
        "            size+=1\n",
        "        else:\n",
        "            return \"Rejected\"\n",
        "    #After checking that it contains only 'a' & 'b'\n",
        "    #check it's length it should be 3 atleast\n",
        "    if size>=3:\n",
        "        #check the last 3 elements\n",
        "        if s[size-3]=='b':\n",
        "            if s[size-2]=='b':\n",
        "                if s[size-1]=='a':\n",
        "                    return \"Accepted\"\n",
        "                return \"Rejected\"\n",
        "            return \"Rejected\"\n",
        "        return \"Rejected\"\n",
        "    return \"Rejected\"\n",
        "inputs=['bba', 'ababbba', 'abba','abb', 'baba','bbb','']\n",
        "for i in inputs:\n",
        "    print(FA(i))"
      ],
      "metadata": {
        "colab": {
          "base_uri": "https://localhost:8080/"
        },
        "id": "1ySLr4N5_QXq",
        "outputId": "00c615e3-c680-4a8e-e47a-08490dd93944"
      },
      "execution_count": 8,
      "outputs": [
        {
          "output_type": "stream",
          "name": "stdout",
          "text": [
            "Accepted\n",
            "Accepted\n",
            "Accepted\n",
            "Rejected\n",
            "Rejected\n",
            "Rejected\n",
            "Rejected\n"
          ]
        }
      ]
    },
    {
      "cell_type": "markdown",
      "source": [
        "## D. Implementation of Deductive Chart Parsing using context free grammar and a given sentence."
      ],
      "metadata": {
        "id": "cPgbJJtB_pYu"
      }
    },
    {
      "cell_type": "code",
      "source": [
        "import nltk\n",
        "from nltk import tokenize\n",
        "grammar1 = nltk.CFG.fromstring(\"\"\"\n",
        "S -> NP VP\n",
        "PP -> P NP\n",
        "NP -> Det N | Det N PP | 'I'\n",
        "VP -> V NP | VP PP\n",
        "Det -> 'a' | 'my'\n",
        "N -> 'bird' | 'balcony'\n",
        "V -> 'saw'\n",
        "P -> 'in'\n",
        "\"\"\")\n",
        "sentence = \"I saw a bird in my balcony\"\n",
        "for index in range(len(sentence)):\n",
        "    all_tokens = tokenize.word_tokenize(sentence)\n",
        "print(all_tokens)\n",
        "# all_tokens = ['I', 'saw', 'a', 'bird', 'in', 'my', 'balcony']\n",
        "parser = nltk.ChartParser(grammar1)\n",
        "for tree in parser.parse(all_tokens):\n",
        "    print(tree)\n",
        "#    tree.draw()"
      ],
      "metadata": {
        "colab": {
          "base_uri": "https://localhost:8080/"
        },
        "id": "COG7FT0W_fSP",
        "outputId": "d361af94-e81f-4ab7-b3b0-03668b5ff69f"
      },
      "execution_count": 10,
      "outputs": [
        {
          "output_type": "stream",
          "name": "stdout",
          "text": [
            "['I', 'saw', 'a', 'bird', 'in', 'my', 'balcony']\n",
            "(S\n",
            "  (NP I)\n",
            "  (VP\n",
            "    (VP (V saw) (NP (Det a) (N bird)))\n",
            "    (PP (P in) (NP (Det my) (N balcony)))))\n",
            "(S\n",
            "  (NP I)\n",
            "  (VP\n",
            "    (V saw)\n",
            "    (NP (Det a) (N bird) (PP (P in) (NP (Det my) (N balcony))))))\n"
          ]
        }
      ]
    }
  ]
}